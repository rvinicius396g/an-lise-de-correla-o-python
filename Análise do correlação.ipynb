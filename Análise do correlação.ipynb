{
 "cells": [
  {
   "cell_type": "markdown",
   "metadata": {},
   "source": [
    "## Análise de variáveis\n",
    "Aqui serão explorados três técnicas de análises estatísticas importantes: a correlação de Pearson, o Information Value (IV) e o Coeficiente de Determinação (R²) com python e jupyter"
   ]
  },
  {
   "cell_type": "code",
   "execution_count": 1,
   "metadata": {},
   "outputs": [],
   "source": [
    "import pandas as pd\n",
    "import numpy as np\n",
    "from scipy.stats import pearsonr\n",
    "import statsmodels.api as sm"
   ]
  },
  {
   "cell_type": "code",
   "execution_count": 2,
   "metadata": {},
   "outputs": [],
   "source": [
    "# Criando o DataFrame\n",
    "df = {\n",
    "    'Idade': [25, 30, 22, 35, 28, 42, 35, 31, 27, 40,\n",
    "              33, 29, 36, 34, 26, 39, 37, 30, 28, 41,\n",
    "              35, 32, 29, 38, 33, 27, 36, 31, 25, 40],\n",
    "    'Salário': [3000, 4000, 2500, 5500, 4500, 6500, 6000, 4200, 3500, 5800,\n",
    "                4900, 3700, 5200, 4600, 3000, 5900, 5500, 4300, 3400, 6200,\n",
    "                5300, 4400, 3600, 5700, 4800, 3100, 5400, 4500, 2900, 6000],\n",
    "    'Gênero': ['M', 'F', 'M', 'F', 'M', 'F', 'M', 'F', 'M', 'F',\n",
    "               'M', 'F', 'M', 'F', 'M', 'F', 'M', 'F', 'M', 'F',\n",
    "               'M', 'F', 'M', 'F', 'M', 'F', 'M', 'F', 'M', 'F'],\n",
    "    'Comprou': ['Sim', 'Não', 'Sim', 'Sim', 'Não', 'Sim', 'Não', 'Sim', 'Sim', 'Sim',\n",
    "                'Não', 'Sim', 'Sim', 'Não', 'Sim', 'Sim', 'Não', 'Sim', 'Sim', 'Sim',\n",
    "                'Não', 'Sim', 'Sim', 'Sim', 'Não', 'Sim', 'Sim', 'Não', 'Sim', 'Sim']\n",
    "}\n",
    "\n",
    "df = pd.DataFrame(df)"
   ]
  },
  {
   "cell_type": "markdown",
   "metadata": {},
   "source": [
    "#### 1. Correlação de Pearson entre Idade e Salário\n",
    "A função pearsonr da biblioteca scipy.stats retorna dois valores:\n",
    "- Coeficiente de Correlação (correlation): Este é o valor que representa a força e a direção da relação linear entre as duas variáveis. No seu caso, é a correlação entre \"Idade\" e \"Salário\".\n",
    "- Valor P (p-value): Este valor indica a significância estatística da correlação. Um valor P baixo (geralmente menor que 0,05) sugere que a correlação observada é estatisticamente significativa.\n",
    "\n",
    "Na situação atual, só estamos interessandos no coeficiene de correlação, dessa forma usamos o '_' (sublinhado) para que não retorne o segundo valor"
   ]
  },
  {
   "cell_type": "code",
   "execution_count": 3,
   "metadata": {},
   "outputs": [
    {
     "name": "stdout",
     "output_type": "stream",
     "text": [
      "Correlação de Pearson entre Idade e Salário: 0.97\n"
     ]
    }
   ],
   "source": [
    "correlation, _ = pearsonr(df['Idade'], df['Salário'])\n",
    "print(f'Correlação de Pearson entre Idade e Salário: {correlation:.2f}')"
   ]
  },
  {
   "cell_type": "markdown",
   "metadata": {},
   "source": [
    "#### 2. Information Value (IV) para Gênero e Comprou"
   ]
  },
  {
   "cell_type": "code",
   "execution_count": 4,
   "metadata": {},
   "outputs": [],
   "source": [
    "#Cálculo das proporções\n",
    "tot_sim = df['Comprou'].value_counts()['Sim']\n",
    "tot_nao = df['Comprou'].value_counts()['Não']"
   ]
  },
  {
   "cell_type": "code",
   "execution_count": 5,
   "metadata": {},
   "outputs": [
    {
     "name": "stdout",
     "output_type": "stream",
     "text": [
      "Information Value (IV) para Gênero e Comprou: 0.10\n"
     ]
    }
   ],
   "source": [
    "# Proporções por gênero\n",
    "gender_counts = df.groupby('Gênero')['Comprou'].value_counts(normalize=True).unstack().fillna(0)\n",
    "\n",
    "gender_counts['IV'] = (gender_counts['Sim'] - (tot_sim / (tot_sim + tot_nao))) * \\\n",
    "                      np.log(gender_counts['Sim'] / (gender_counts['Não']))\n",
    "\n",
    "total_iv = gender_counts['IV'].sum()\n",
    "print(f'Information Value (IV) para Gênero e Comprou: {total_iv:.2f}')"
   ]
  },
  {
   "cell_type": "markdown",
   "metadata": {},
   "source": [
    "#### 3. Coeficiente de Determinação (R²) entre Gênero e Salário"
   ]
  },
  {
   "cell_type": "code",
   "execution_count": 6,
   "metadata": {},
   "outputs": [],
   "source": [
    "# Convertendo Gênero (qualitativa) para variável dummy (quantitativa)\n",
    "df['Gênero_Dummy'] = df['Gênero'].map({'M': 1, 'F': 0})"
   ]
  },
  {
   "cell_type": "code",
   "execution_count": 7,
   "metadata": {},
   "outputs": [
    {
     "data": {
      "text/html": [
       "<div>\n",
       "<style scoped>\n",
       "    .dataframe tbody tr th:only-of-type {\n",
       "        vertical-align: middle;\n",
       "    }\n",
       "\n",
       "    .dataframe tbody tr th {\n",
       "        vertical-align: top;\n",
       "    }\n",
       "\n",
       "    .dataframe thead th {\n",
       "        text-align: right;\n",
       "    }\n",
       "</style>\n",
       "<table border=\"1\" class=\"dataframe\">\n",
       "  <thead>\n",
       "    <tr style=\"text-align: right;\">\n",
       "      <th></th>\n",
       "      <th>Idade</th>\n",
       "      <th>Salário</th>\n",
       "      <th>Gênero</th>\n",
       "      <th>Comprou</th>\n",
       "      <th>Gênero_Dummy</th>\n",
       "    </tr>\n",
       "  </thead>\n",
       "  <tbody>\n",
       "    <tr>\n",
       "      <th>0</th>\n",
       "      <td>25</td>\n",
       "      <td>3000</td>\n",
       "      <td>M</td>\n",
       "      <td>Sim</td>\n",
       "      <td>1</td>\n",
       "    </tr>\n",
       "    <tr>\n",
       "      <th>1</th>\n",
       "      <td>30</td>\n",
       "      <td>4000</td>\n",
       "      <td>F</td>\n",
       "      <td>Não</td>\n",
       "      <td>0</td>\n",
       "    </tr>\n",
       "    <tr>\n",
       "      <th>2</th>\n",
       "      <td>22</td>\n",
       "      <td>2500</td>\n",
       "      <td>M</td>\n",
       "      <td>Sim</td>\n",
       "      <td>1</td>\n",
       "    </tr>\n",
       "  </tbody>\n",
       "</table>\n",
       "</div>"
      ],
      "text/plain": [
       "   Idade  Salário Gênero Comprou  Gênero_Dummy\n",
       "0     25     3000      M     Sim             1\n",
       "1     30     4000      F     Não             0\n",
       "2     22     2500      M     Sim             1"
      ]
     },
     "execution_count": 7,
     "metadata": {},
     "output_type": "execute_result"
    }
   ],
   "source": [
    "df.head(3)"
   ]
  },
  {
   "cell_type": "code",
   "execution_count": 8,
   "metadata": {},
   "outputs": [],
   "source": [
    "# Regressão linear\n",
    "X = df[['Gênero_Dummy']]\n",
    "y = df['Salário']\n",
    "X = sm.add_constant(X)  # Adiciona o intercepto\n",
    "model = sm.OLS(y, X).fit()\n",
    "r_squared = model.rsquared\n"
   ]
  },
  {
   "cell_type": "code",
   "execution_count": 9,
   "metadata": {},
   "outputs": [
    {
     "name": "stdout",
     "output_type": "stream",
     "text": [
      "Coeficiente de Determinação (R²) entre Gênero e Salário: 0.11\n"
     ]
    }
   ],
   "source": [
    "print(f'Coeficiente de Determinação (R²) entre Gênero e Salário: {r_squared:.2f}')"
   ]
  }
 ],
 "metadata": {
  "kernelspec": {
   "display_name": "base",
   "language": "python",
   "name": "python3"
  },
  "language_info": {
   "codemirror_mode": {
    "name": "ipython",
    "version": 3
   },
   "file_extension": ".py",
   "mimetype": "text/x-python",
   "name": "python",
   "nbconvert_exporter": "python",
   "pygments_lexer": "ipython3",
   "version": "3.9.18"
  }
 },
 "nbformat": 4,
 "nbformat_minor": 2
}
